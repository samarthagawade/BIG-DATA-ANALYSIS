{
 "cells": [
  {
   "cell_type": "code",
   "execution_count": 2,
   "id": "b491b2ff-6658-480e-8c01-88a83212dbc6",
   "metadata": {},
   "outputs": [
    {
     "name": "stdout",
     "output_type": "stream",
     "text": [
      "root\n",
      " |-- StudentID: integer (nullable = true)\n",
      " |-- Name: string (nullable = true)\n",
      " |-- Age: integer (nullable = true)\n",
      " |-- Email: string (nullable = true)\n",
      " |-- Department: string (nullable = true)\n",
      " |-- GPA: double (nullable = true)\n",
      " |-- GraduationYear: integer (nullable = true)\n",
      "\n",
      "+-------+------------------+--------------+------------------+-----------------+----------+------------------+------------------+\n",
      "|summary|         StudentID|          Name|               Age|            Email|Department|               GPA|    GraduationYear|\n",
      "+-------+------------------+--------------+------------------+-----------------+----------+------------------+------------------+\n",
      "|  count|               200|           200|               200|              200|       200|               200|               200|\n",
      "|   mean|           5726.46|          NULL|             21.58|             NULL|      NULL| 3.027849999999999|           2027.18|\n",
      "| stddev|2507.4076220903103|          NULL|2.2670016502887815|             NULL|      NULL|0.5911201167802629|2.0119242520482223|\n",
      "|    min|              1066|    Adam Evans|                18|aaron93@yahoo.com|   Biology|               2.0|              2024|\n",
      "|    max|              9985|Willie Russell|                25|zthompson@lee.com|   Physics|              3.99|              2030|\n",
      "+-------+------------------+--------------+------------------+-----------------+----------+------------------+------------------+\n",
      "\n",
      "+----------------+------------------+\n",
      "|      Department|            AvgGPA|\n",
      "+----------------+------------------+\n",
      "|       Chemistry|2.9363043478260873|\n",
      "|     Mathematics|3.0806666666666667|\n",
      "|         Physics|3.1239215686274506|\n",
      "|Computer Science|3.0443478260869563|\n",
      "|         Biology| 2.915555555555556|\n",
      "+----------------+------------------+\n",
      "\n",
      "+--------------+------------+\n",
      "|GraduationYear|StudentCount|\n",
      "+--------------+------------+\n",
      "|          2024|          23|\n",
      "|          2025|          30|\n",
      "|          2026|          23|\n",
      "|          2027|          36|\n",
      "|          2028|          25|\n",
      "|          2029|          26|\n",
      "|          2030|          37|\n",
      "+--------------+------------+\n",
      "\n"
     ]
    }
   ],
   "source": [
    "from pyspark.sql import SparkSession\n",
    "from pyspark.sql.functions import col, avg, count\n",
    "\n",
    "# Initialize Spark session\n",
    "spark = SparkSession.builder \\\n",
    "    .appName(\"StudentDatasetAnalysis\") \\\n",
    "    .config(\"spark.driver.memory\", \"4g\") \\\n",
    "    .getOrCreate()\n",
    "\n",
    "# Load the dataset\n",
    "csv_path = \"students.csv\"  # Update the path if needed\n",
    "df_spark = spark.read.csv(csv_path, header=True, inferSchema=True)\n",
    "\n",
    "# Show dataset structure\n",
    "df_spark.printSchema()\n",
    "\n",
    "# Perform basic statistics on numeric columns\n",
    "df_spark.describe().show()\n",
    "\n",
    "# Average GPA per department\n",
    "df_spark.groupBy(\"Department\").agg(avg(\"GPA\").alias(\"AvgGPA\")).show()\n",
    "\n",
    "# Count students per graduation year\n",
    "df_spark.groupBy(\"GraduationYear\").agg(count(\"*\").alias(\"StudentCount\")).orderBy(\"GraduationYear\").show()\n",
    "\n",
    "# Stop Spark session\n",
    "spark.stop()"
   ]
  },
  {
   "cell_type": "code",
   "execution_count": null,
   "id": "229ecbc6-9637-4c98-a82c-970bac410454",
   "metadata": {},
   "outputs": [],
   "source": []
  }
 ],
 "metadata": {
  "kernelspec": {
   "display_name": "Python 3 (ipykernel)",
   "language": "python",
   "name": "python3"
  },
  "language_info": {
   "codemirror_mode": {
    "name": "ipython",
    "version": 3
   },
   "file_extension": ".py",
   "mimetype": "text/x-python",
   "name": "python",
   "nbconvert_exporter": "python",
   "pygments_lexer": "ipython3",
   "version": "3.13.1"
  }
 },
 "nbformat": 4,
 "nbformat_minor": 5
}
